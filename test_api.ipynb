{
 "cells": [
  {
   "cell_type": "code",
   "execution_count": 1,
   "metadata": {},
   "outputs": [
    {
     "name": "stdout",
     "output_type": "stream",
     "text": [
      "CSV file downloaded successfully.\n"
     ]
    }
   ],
   "source": [
    "import requests\n",
    "\n",
    "# Define API URL and API key\n",
    "url = \"https://ds-de-project.vercel.app/papers/csv\"\n",
    "headers = {\"X-API-Key\": \"a8c22b2d-21c7-4a8d-8a26-bd5f3e5e6d21\"}\n",
    "\n",
    "# Fetch the CSV file from the API\n",
    "response = requests.get(url, headers=headers)\n",
    "\n",
    "# Check if the request was successful\n",
    "if response.status_code == 200:\n",
    "    # Save the CSV file locally\n",
    "    with open(\"papers.csv\", \"wb\") as file:\n",
    "        file.write(response.content)\n",
    "    print(\"CSV file downloaded successfully.\")\n",
    "else:\n",
    "    print(f\"Failed to download CSV. Status code: {response.status_code}, Detail: {response.text}\")"
   ]
  },
  {
   "cell_type": "code",
   "execution_count": null,
   "metadata": {},
   "outputs": [],
   "source": []
  }
 ],
 "metadata": {
  "kernelspec": {
   "display_name": "Python 3",
   "language": "python",
   "name": "python3"
  },
  "language_info": {
   "codemirror_mode": {
    "name": "ipython",
    "version": 3
   },
   "file_extension": ".py",
   "mimetype": "text/x-python",
   "name": "python",
   "nbconvert_exporter": "python",
   "pygments_lexer": "ipython3",
   "version": "3.10.0"
  }
 },
 "nbformat": 4,
 "nbformat_minor": 2
}
