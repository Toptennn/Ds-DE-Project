{
 "cells": [
  {
   "cell_type": "code",
   "execution_count": 1,
   "metadata": {},
   "outputs": [
    {
     "name": "stdout",
     "output_type": "stream",
     "text": [
      "CSV file downloaded successfully.\n"
     ]
    }
   ],
   "source": [
    "import requests\n",
    "\n",
    "# Define API URL and API key\n",
    "url = \"https://ds-de-project.vercel.app/papers/csv\"\n",
    "headers = {\"X-API-Key\": \"a8c22b2d-21c7-4a8d-8a26-bd5f3e5e6d21\"}\n",
    "\n",
    "# Fetch the CSV file from the API\n",
    "response = requests.get(url, headers=headers)\n",
    "\n",
    "# Check if the request was successful\n",
    "if response.status_code == 200:\n",
    "    # Save the CSV file locally\n",
    "    with open(\"papers.csv\", \"wb\") as file:\n",
    "        file.write(response.content)\n",
    "    print(\"CSV file downloaded successfully.\")\n",
    "else:\n",
    "    print(f\"Failed to download CSV. Status code: {response.status_code}, Detail: {response.text}\")"
   ]
  },
  {
   "cell_type": "code",
   "execution_count": null,
   "metadata": {},
   "outputs": [],
   "source": [
    "import requests\n",
    "import csv\n",
    "import random\n",
    "import io\n",
    "\n",
    "# URL of the API\n",
    "api_url = \"https://ds-de-project.vercel.app/papers/csv\"\n",
    "headers = {\"X-API-Key\": \"a8c22b2d-21c7-4a8d-8a26-bd5f3e5e6d21\"}\n",
    "\n",
    "# Fetch the CSV from the API\n",
    "response = requests.get(api_url, headers=headers)\n",
    "\n",
    "if response.status_code == 200:\n",
    "    # Read the CSV content\n",
    "    csv_content = response.text\n",
    "    csv_reader = csv.DictReader(io.StringIO(csv_content))\n",
    "\n",
    "    # Prepare the new CSV with only the required columns\n",
    "    selected_columns = [\"title\", \"citations\", \"documents\"]\n",
    "    modified_csv_file = \"modified_papers.csv\"\n",
    "\n",
    "    with open(modified_csv_file, mode=\"w\", newline=\"\", encoding=\"utf-8\") as file:\n",
    "        csv_writer = csv.DictWriter(file, fieldnames=selected_columns)\n",
    "        csv_writer.writeheader()\n",
    "\n",
    "        for row in csv_reader:\n",
    "            # Create the modified row\n",
    "            modified_row = {\n",
    "                \"title\": row[\"title\"],\n",
    "                \"2020 - 2023\": row.get(\"2020 - 2023\", 0),  # Default to 0 if not found\n",
    "                \"document\": random.randint(100, 400),  # Add a random number between 100-400\n",
    "            }\n",
    "            csv_writer.writerow(modified_row)\n",
    "\n",
    "    print(f\"Modified CSV saved as {modified_csv_file}\")\n",
    "else:\n",
    "    print(f\"Failed to fetch CSV. Status code: {response.status_code}, Error: {response.text}\")"
   ]
  }
 ],
 "metadata": {
  "kernelspec": {
   "display_name": "Python 3",
   "language": "python",
   "name": "python3"
  },
  "language_info": {
   "codemirror_mode": {
    "name": "ipython",
    "version": 3
   },
   "file_extension": ".py",
   "mimetype": "text/x-python",
   "name": "python",
   "nbconvert_exporter": "python",
   "pygments_lexer": "ipython3",
   "version": "3.10.0"
  }
 },
 "nbformat": 4,
 "nbformat_minor": 2
}
