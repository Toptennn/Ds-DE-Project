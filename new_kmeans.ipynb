{
 "cells": [
  {
   "cell_type": "code",
   "execution_count": 10,
   "metadata": {},
   "outputs": [
    {
     "name": "stdout",
     "output_type": "stream",
     "text": [
      "Modified CSV saved as modified_papers.csv\n"
     ]
    }
   ],
   "source": [
    "import requests\n",
    "import csv\n",
    "import random\n",
    "import io\n",
    "\n",
    "# URL of the API\n",
    "api_url = \"https://ds-de-project.vercel.app/papers/csv\"\n",
    "\n",
    "# Fetch the CSV from the API\n",
    "response = requests.get(api_url, headers= {\"X-API-Key\": \"a8c22b2d-21c7-4a8d-8a26-bd5f3e5e6d21\"})\n",
    "\n",
    "if response.status_code == 200:\n",
    "    # Read the CSV content\n",
    "    csv_content = response.text\n",
    "    csv_reader = csv.DictReader(io.StringIO(csv_content))\n",
    "\n",
    "    # Prepare the new CSV with only the required columns\n",
    "    selected_columns = [\"title\", \"2020 - 2023\", \"document\"]\n",
    "    modified_csv_file = \"modified_papers.csv\"\n",
    "\n",
    "    with open(modified_csv_file, mode=\"w\", newline=\"\", encoding=\"utf-8\") as file:\n",
    "        csv_writer = csv.DictWriter(file, fieldnames=selected_columns)\n",
    "        csv_writer.writeheader()\n",
    "\n",
    "        for row in csv_reader:\n",
    "            # Create the modified row\n",
    "            modified_row = {\n",
    "                \"title\": row[\"title\"],\n",
    "                \"2020 - 2023\": row.get(\"2020 - 2023\", 0),  # Default to 0 if not found\n",
    "                \"document\": random.randint(100, 400),  # Add a random number between 100-400\n",
    "            }\n",
    "            csv_writer.writerow(modified_row)\n",
    "\n",
    "    print(f\"Modified CSV saved as {modified_csv_file}\")\n",
    "else:\n",
    "    print(f\"Failed to fetch CSV. Status code: {response.status_code}, Error: {response.text}\")"
   ]
  },
  {
   "cell_type": "code",
   "execution_count": 5,
   "metadata": {},
   "outputs": [
    {
     "data": {
      "text/html": [
       "<div>\n",
       "<style scoped>\n",
       "    .dataframe tbody tr th:only-of-type {\n",
       "        vertical-align: middle;\n",
       "    }\n",
       "\n",
       "    .dataframe tbody tr th {\n",
       "        vertical-align: top;\n",
       "    }\n",
       "\n",
       "    .dataframe thead th {\n",
       "        text-align: right;\n",
       "    }\n",
       "</style>\n",
       "<table border=\"1\" class=\"dataframe\">\n",
       "  <thead>\n",
       "    <tr style=\"text-align: right;\">\n",
       "      <th></th>\n",
       "      <th>title</th>\n",
       "      <th>2020 - 2023</th>\n",
       "      <th>document</th>\n",
       "    </tr>\n",
       "  </thead>\n",
       "  <tbody>\n",
       "    <tr>\n",
       "      <th>0</th>\n",
       "      <td>GENEVA Risk and Insurance Review</td>\n",
       "      <td>141</td>\n",
       "      <td>342</td>\n",
       "    </tr>\n",
       "    <tr>\n",
       "      <th>1</th>\n",
       "      <td>Marine Resource Economics</td>\n",
       "      <td>376</td>\n",
       "      <td>138</td>\n",
       "    </tr>\n",
       "    <tr>\n",
       "      <th>2</th>\n",
       "      <td>American Journal of Health Economics</td>\n",
       "      <td>333</td>\n",
       "      <td>383</td>\n",
       "    </tr>\n",
       "    <tr>\n",
       "      <th>3</th>\n",
       "      <td>Asian Journal of Technology Innovation</td>\n",
       "      <td>456</td>\n",
       "      <td>339</td>\n",
       "    </tr>\n",
       "    <tr>\n",
       "      <th>4</th>\n",
       "      <td>Cambridge Journal of Economics</td>\n",
       "      <td>904</td>\n",
       "      <td>267</td>\n",
       "    </tr>\n",
       "  </tbody>\n",
       "</table>\n",
       "</div>"
      ],
      "text/plain": [
       "                                    title  2020 - 2023  document\n",
       "0        GENEVA Risk and Insurance Review          141       342\n",
       "1               Marine Resource Economics          376       138\n",
       "2    American Journal of Health Economics          333       383\n",
       "3  Asian Journal of Technology Innovation          456       339\n",
       "4          Cambridge Journal of Economics          904       267"
      ]
     },
     "execution_count": 5,
     "metadata": {},
     "output_type": "execute_result"
    }
   ],
   "source": [
    "import pandas as pd\n",
    "df = pd.read_csv('modified_papers.csv')\n",
    "df.head()"
   ]
  },
  {
   "cell_type": "code",
   "execution_count": null,
   "metadata": {},
   "outputs": [
    {
     "data": {
      "text/html": [
       "<div>\n",
       "<style scoped>\n",
       "    .dataframe tbody tr th:only-of-type {\n",
       "        vertical-align: middle;\n",
       "    }\n",
       "\n",
       "    .dataframe tbody tr th {\n",
       "        vertical-align: top;\n",
       "    }\n",
       "\n",
       "    .dataframe thead th {\n",
       "        text-align: right;\n",
       "    }\n",
       "</style>\n",
       "<table border=\"1\" class=\"dataframe\">\n",
       "  <thead>\n",
       "    <tr style=\"text-align: right;\">\n",
       "      <th></th>\n",
       "      <th>2020 - 2023</th>\n",
       "      <th>document</th>\n",
       "    </tr>\n",
       "  </thead>\n",
       "  <tbody>\n",
       "    <tr>\n",
       "      <th>0</th>\n",
       "      <td>141</td>\n",
       "      <td>342</td>\n",
       "    </tr>\n",
       "    <tr>\n",
       "      <th>1</th>\n",
       "      <td>376</td>\n",
       "      <td>138</td>\n",
       "    </tr>\n",
       "    <tr>\n",
       "      <th>2</th>\n",
       "      <td>333</td>\n",
       "      <td>383</td>\n",
       "    </tr>\n",
       "    <tr>\n",
       "      <th>3</th>\n",
       "      <td>456</td>\n",
       "      <td>339</td>\n",
       "    </tr>\n",
       "    <tr>\n",
       "      <th>4</th>\n",
       "      <td>904</td>\n",
       "      <td>267</td>\n",
       "    </tr>\n",
       "    <tr>\n",
       "      <th>...</th>\n",
       "      <td>...</td>\n",
       "      <td>...</td>\n",
       "    </tr>\n",
       "    <tr>\n",
       "      <th>96</th>\n",
       "      <td>3</td>\n",
       "      <td>186</td>\n",
       "    </tr>\n",
       "    <tr>\n",
       "      <th>97</th>\n",
       "      <td>22</td>\n",
       "      <td>225</td>\n",
       "    </tr>\n",
       "    <tr>\n",
       "      <th>98</th>\n",
       "      <td>12</td>\n",
       "      <td>212</td>\n",
       "    </tr>\n",
       "    <tr>\n",
       "      <th>99</th>\n",
       "      <td>23</td>\n",
       "      <td>175</td>\n",
       "    </tr>\n",
       "    <tr>\n",
       "      <th>100</th>\n",
       "      <td>12</td>\n",
       "      <td>389</td>\n",
       "    </tr>\n",
       "  </tbody>\n",
       "</table>\n",
       "<p>101 rows × 2 columns</p>\n",
       "</div>"
      ],
      "text/plain": [
       "     2020 - 2023  document\n",
       "0            141       342\n",
       "1            376       138\n",
       "2            333       383\n",
       "3            456       339\n",
       "4            904       267\n",
       "..           ...       ...\n",
       "96             3       186\n",
       "97            22       225\n",
       "98            12       212\n",
       "99            23       175\n",
       "100           12       389\n",
       "\n",
       "[101 rows x 2 columns]"
      ]
     },
     "execution_count": 4,
     "metadata": {},
     "output_type": "execute_result"
    }
   ],
   "source": [
    "import pandas as pd\n",
    "df = pd.read_csv('modified_papers.csv')\n",
    "modified_df = df[['2020 - 2023', 'document']]\n",
    "modified_df"
   ]
  },
  {
   "cell_type": "code",
   "execution_count": null,
   "metadata": {},
   "outputs": [
    {
     "name": "stdout",
     "output_type": "stream",
     "text": [
      "Original Data:\n",
      "                                                 title  2020 - 2023  document\n",
      "0                     GENEVA Risk and Insurance Review          141       342\n",
      "1                            Marine Resource Economics          376       138\n",
      "2                 American Journal of Health Economics          333       383\n",
      "3               Asian Journal of Technology Innovation          456       339\n",
      "4                       Cambridge Journal of Economics          904       267\n",
      "..                                                 ...          ...       ...\n",
      "96   International Journal of Marketing Semiotics a...            3       186\n",
      "97   Competitive Government: Public Private Partner...           22       225\n",
      "98   Public Administration, Governance and Globaliz...           12       212\n",
      "99   Revista del Ministerio de Trabajo y Economia S...           23       175\n",
      "100             Zeitschrift fur Unternehmensgeschichte           12       389\n",
      "\n",
      "[101 rows x 3 columns]\n",
      "\n",
      "Scaled Features:\n",
      "     2020 - 2023 (scaled)  Document (scaled)\n",
      "0               -0.437197           1.036556\n",
      "1               -0.319347          -1.359898\n",
      "2               -0.340911           1.518196\n",
      "3               -0.279227           1.001314\n",
      "4               -0.054558           0.155507\n",
      "..                    ...                ...\n",
      "96              -0.506403          -0.796026\n",
      "97              -0.496875          -0.337881\n",
      "98              -0.501890          -0.490596\n",
      "99              -0.496374          -0.925247\n",
      "100             -0.501890           1.588680\n",
      "\n",
      "[101 rows x 2 columns]\n"
     ]
    },
    {
     "data": {
      "application/vnd.plotly.v1+json": {
       "config": {
        "plotlyServerURL": "https://plot.ly"
       },
       "data": [
        {
         "hovertemplate": "Number of clusters (k)=%{x}<br>Inertia=%{y}<extra></extra>",
         "legendgroup": "",
         "line": {
          "color": "#636efa",
          "dash": "solid"
         },
         "marker": {
          "symbol": "circle"
         },
         "mode": "lines+markers",
         "name": "",
         "orientation": "v",
         "showlegend": false,
         "type": "scatter",
         "x": [
          1,
          2,
          3,
          4,
          5,
          6
         ],
         "xaxis": "x",
         "y": [
          202.00000000000003,
          121.53325229200958,
          60.45825079441686,
          34.841831006628354,
          23.791568566576437,
          17.116380731354234
         ],
         "yaxis": "y"
        }
       ],
       "layout": {
        "legend": {
         "tracegroupgap": 0
        },
        "template": {
         "data": {
          "bar": [
           {
            "error_x": {
             "color": "#2a3f5f"
            },
            "error_y": {
             "color": "#2a3f5f"
            },
            "marker": {
             "line": {
              "color": "#E5ECF6",
              "width": 0.5
             },
             "pattern": {
              "fillmode": "overlay",
              "size": 10,
              "solidity": 0.2
             }
            },
            "type": "bar"
           }
          ],
          "barpolar": [
           {
            "marker": {
             "line": {
              "color": "#E5ECF6",
              "width": 0.5
             },
             "pattern": {
              "fillmode": "overlay",
              "size": 10,
              "solidity": 0.2
             }
            },
            "type": "barpolar"
           }
          ],
          "carpet": [
           {
            "aaxis": {
             "endlinecolor": "#2a3f5f",
             "gridcolor": "white",
             "linecolor": "white",
             "minorgridcolor": "white",
             "startlinecolor": "#2a3f5f"
            },
            "baxis": {
             "endlinecolor": "#2a3f5f",
             "gridcolor": "white",
             "linecolor": "white",
             "minorgridcolor": "white",
             "startlinecolor": "#2a3f5f"
            },
            "type": "carpet"
           }
          ],
          "choropleth": [
           {
            "colorbar": {
             "outlinewidth": 0,
             "ticks": ""
            },
            "type": "choropleth"
           }
          ],
          "contour": [
           {
            "colorbar": {
             "outlinewidth": 0,
             "ticks": ""
            },
            "colorscale": [
             [
              0,
              "#0d0887"
             ],
             [
              0.1111111111111111,
              "#46039f"
             ],
             [
              0.2222222222222222,
              "#7201a8"
             ],
             [
              0.3333333333333333,
              "#9c179e"
             ],
             [
              0.4444444444444444,
              "#bd3786"
             ],
             [
              0.5555555555555556,
              "#d8576b"
             ],
             [
              0.6666666666666666,
              "#ed7953"
             ],
             [
              0.7777777777777778,
              "#fb9f3a"
             ],
             [
              0.8888888888888888,
              "#fdca26"
             ],
             [
              1,
              "#f0f921"
             ]
            ],
            "type": "contour"
           }
          ],
          "contourcarpet": [
           {
            "colorbar": {
             "outlinewidth": 0,
             "ticks": ""
            },
            "type": "contourcarpet"
           }
          ],
          "heatmap": [
           {
            "colorbar": {
             "outlinewidth": 0,
             "ticks": ""
            },
            "colorscale": [
             [
              0,
              "#0d0887"
             ],
             [
              0.1111111111111111,
              "#46039f"
             ],
             [
              0.2222222222222222,
              "#7201a8"
             ],
             [
              0.3333333333333333,
              "#9c179e"
             ],
             [
              0.4444444444444444,
              "#bd3786"
             ],
             [
              0.5555555555555556,
              "#d8576b"
             ],
             [
              0.6666666666666666,
              "#ed7953"
             ],
             [
              0.7777777777777778,
              "#fb9f3a"
             ],
             [
              0.8888888888888888,
              "#fdca26"
             ],
             [
              1,
              "#f0f921"
             ]
            ],
            "type": "heatmap"
           }
          ],
          "heatmapgl": [
           {
            "colorbar": {
             "outlinewidth": 0,
             "ticks": ""
            },
            "colorscale": [
             [
              0,
              "#0d0887"
             ],
             [
              0.1111111111111111,
              "#46039f"
             ],
             [
              0.2222222222222222,
              "#7201a8"
             ],
             [
              0.3333333333333333,
              "#9c179e"
             ],
             [
              0.4444444444444444,
              "#bd3786"
             ],
             [
              0.5555555555555556,
              "#d8576b"
             ],
             [
              0.6666666666666666,
              "#ed7953"
             ],
             [
              0.7777777777777778,
              "#fb9f3a"
             ],
             [
              0.8888888888888888,
              "#fdca26"
             ],
             [
              1,
              "#f0f921"
             ]
            ],
            "type": "heatmapgl"
           }
          ],
          "histogram": [
           {
            "marker": {
             "pattern": {
              "fillmode": "overlay",
              "size": 10,
              "solidity": 0.2
             }
            },
            "type": "histogram"
           }
          ],
          "histogram2d": [
           {
            "colorbar": {
             "outlinewidth": 0,
             "ticks": ""
            },
            "colorscale": [
             [
              0,
              "#0d0887"
             ],
             [
              0.1111111111111111,
              "#46039f"
             ],
             [
              0.2222222222222222,
              "#7201a8"
             ],
             [
              0.3333333333333333,
              "#9c179e"
             ],
             [
              0.4444444444444444,
              "#bd3786"
             ],
             [
              0.5555555555555556,
              "#d8576b"
             ],
             [
              0.6666666666666666,
              "#ed7953"
             ],
             [
              0.7777777777777778,
              "#fb9f3a"
             ],
             [
              0.8888888888888888,
              "#fdca26"
             ],
             [
              1,
              "#f0f921"
             ]
            ],
            "type": "histogram2d"
           }
          ],
          "histogram2dcontour": [
           {
            "colorbar": {
             "outlinewidth": 0,
             "ticks": ""
            },
            "colorscale": [
             [
              0,
              "#0d0887"
             ],
             [
              0.1111111111111111,
              "#46039f"
             ],
             [
              0.2222222222222222,
              "#7201a8"
             ],
             [
              0.3333333333333333,
              "#9c179e"
             ],
             [
              0.4444444444444444,
              "#bd3786"
             ],
             [
              0.5555555555555556,
              "#d8576b"
             ],
             [
              0.6666666666666666,
              "#ed7953"
             ],
             [
              0.7777777777777778,
              "#fb9f3a"
             ],
             [
              0.8888888888888888,
              "#fdca26"
             ],
             [
              1,
              "#f0f921"
             ]
            ],
            "type": "histogram2dcontour"
           }
          ],
          "mesh3d": [
           {
            "colorbar": {
             "outlinewidth": 0,
             "ticks": ""
            },
            "type": "mesh3d"
           }
          ],
          "parcoords": [
           {
            "line": {
             "colorbar": {
              "outlinewidth": 0,
              "ticks": ""
             }
            },
            "type": "parcoords"
           }
          ],
          "pie": [
           {
            "automargin": true,
            "type": "pie"
           }
          ],
          "scatter": [
           {
            "fillpattern": {
             "fillmode": "overlay",
             "size": 10,
             "solidity": 0.2
            },
            "type": "scatter"
           }
          ],
          "scatter3d": [
           {
            "line": {
             "colorbar": {
              "outlinewidth": 0,
              "ticks": ""
             }
            },
            "marker": {
             "colorbar": {
              "outlinewidth": 0,
              "ticks": ""
             }
            },
            "type": "scatter3d"
           }
          ],
          "scattercarpet": [
           {
            "marker": {
             "colorbar": {
              "outlinewidth": 0,
              "ticks": ""
             }
            },
            "type": "scattercarpet"
           }
          ],
          "scattergeo": [
           {
            "marker": {
             "colorbar": {
              "outlinewidth": 0,
              "ticks": ""
             }
            },
            "type": "scattergeo"
           }
          ],
          "scattergl": [
           {
            "marker": {
             "colorbar": {
              "outlinewidth": 0,
              "ticks": ""
             }
            },
            "type": "scattergl"
           }
          ],
          "scattermapbox": [
           {
            "marker": {
             "colorbar": {
              "outlinewidth": 0,
              "ticks": ""
             }
            },
            "type": "scattermapbox"
           }
          ],
          "scatterpolar": [
           {
            "marker": {
             "colorbar": {
              "outlinewidth": 0,
              "ticks": ""
             }
            },
            "type": "scatterpolar"
           }
          ],
          "scatterpolargl": [
           {
            "marker": {
             "colorbar": {
              "outlinewidth": 0,
              "ticks": ""
             }
            },
            "type": "scatterpolargl"
           }
          ],
          "scatterternary": [
           {
            "marker": {
             "colorbar": {
              "outlinewidth": 0,
              "ticks": ""
             }
            },
            "type": "scatterternary"
           }
          ],
          "surface": [
           {
            "colorbar": {
             "outlinewidth": 0,
             "ticks": ""
            },
            "colorscale": [
             [
              0,
              "#0d0887"
             ],
             [
              0.1111111111111111,
              "#46039f"
             ],
             [
              0.2222222222222222,
              "#7201a8"
             ],
             [
              0.3333333333333333,
              "#9c179e"
             ],
             [
              0.4444444444444444,
              "#bd3786"
             ],
             [
              0.5555555555555556,
              "#d8576b"
             ],
             [
              0.6666666666666666,
              "#ed7953"
             ],
             [
              0.7777777777777778,
              "#fb9f3a"
             ],
             [
              0.8888888888888888,
              "#fdca26"
             ],
             [
              1,
              "#f0f921"
             ]
            ],
            "type": "surface"
           }
          ],
          "table": [
           {
            "cells": {
             "fill": {
              "color": "#EBF0F8"
             },
             "line": {
              "color": "white"
             }
            },
            "header": {
             "fill": {
              "color": "#C8D4E3"
             },
             "line": {
              "color": "white"
             }
            },
            "type": "table"
           }
          ]
         },
         "layout": {
          "annotationdefaults": {
           "arrowcolor": "#2a3f5f",
           "arrowhead": 0,
           "arrowwidth": 1
          },
          "autotypenumbers": "strict",
          "coloraxis": {
           "colorbar": {
            "outlinewidth": 0,
            "ticks": ""
           }
          },
          "colorscale": {
           "diverging": [
            [
             0,
             "#8e0152"
            ],
            [
             0.1,
             "#c51b7d"
            ],
            [
             0.2,
             "#de77ae"
            ],
            [
             0.3,
             "#f1b6da"
            ],
            [
             0.4,
             "#fde0ef"
            ],
            [
             0.5,
             "#f7f7f7"
            ],
            [
             0.6,
             "#e6f5d0"
            ],
            [
             0.7,
             "#b8e186"
            ],
            [
             0.8,
             "#7fbc41"
            ],
            [
             0.9,
             "#4d9221"
            ],
            [
             1,
             "#276419"
            ]
           ],
           "sequential": [
            [
             0,
             "#0d0887"
            ],
            [
             0.1111111111111111,
             "#46039f"
            ],
            [
             0.2222222222222222,
             "#7201a8"
            ],
            [
             0.3333333333333333,
             "#9c179e"
            ],
            [
             0.4444444444444444,
             "#bd3786"
            ],
            [
             0.5555555555555556,
             "#d8576b"
            ],
            [
             0.6666666666666666,
             "#ed7953"
            ],
            [
             0.7777777777777778,
             "#fb9f3a"
            ],
            [
             0.8888888888888888,
             "#fdca26"
            ],
            [
             1,
             "#f0f921"
            ]
           ],
           "sequentialminus": [
            [
             0,
             "#0d0887"
            ],
            [
             0.1111111111111111,
             "#46039f"
            ],
            [
             0.2222222222222222,
             "#7201a8"
            ],
            [
             0.3333333333333333,
             "#9c179e"
            ],
            [
             0.4444444444444444,
             "#bd3786"
            ],
            [
             0.5555555555555556,
             "#d8576b"
            ],
            [
             0.6666666666666666,
             "#ed7953"
            ],
            [
             0.7777777777777778,
             "#fb9f3a"
            ],
            [
             0.8888888888888888,
             "#fdca26"
            ],
            [
             1,
             "#f0f921"
            ]
           ]
          },
          "colorway": [
           "#636efa",
           "#EF553B",
           "#00cc96",
           "#ab63fa",
           "#FFA15A",
           "#19d3f3",
           "#FF6692",
           "#B6E880",
           "#FF97FF",
           "#FECB52"
          ],
          "font": {
           "color": "#2a3f5f"
          },
          "geo": {
           "bgcolor": "white",
           "lakecolor": "white",
           "landcolor": "#E5ECF6",
           "showlakes": true,
           "showland": true,
           "subunitcolor": "white"
          },
          "hoverlabel": {
           "align": "left"
          },
          "hovermode": "closest",
          "mapbox": {
           "style": "light"
          },
          "paper_bgcolor": "white",
          "plot_bgcolor": "#E5ECF6",
          "polar": {
           "angularaxis": {
            "gridcolor": "white",
            "linecolor": "white",
            "ticks": ""
           },
           "bgcolor": "#E5ECF6",
           "radialaxis": {
            "gridcolor": "white",
            "linecolor": "white",
            "ticks": ""
           }
          },
          "scene": {
           "xaxis": {
            "backgroundcolor": "#E5ECF6",
            "gridcolor": "white",
            "gridwidth": 2,
            "linecolor": "white",
            "showbackground": true,
            "ticks": "",
            "zerolinecolor": "white"
           },
           "yaxis": {
            "backgroundcolor": "#E5ECF6",
            "gridcolor": "white",
            "gridwidth": 2,
            "linecolor": "white",
            "showbackground": true,
            "ticks": "",
            "zerolinecolor": "white"
           },
           "zaxis": {
            "backgroundcolor": "#E5ECF6",
            "gridcolor": "white",
            "gridwidth": 2,
            "linecolor": "white",
            "showbackground": true,
            "ticks": "",
            "zerolinecolor": "white"
           }
          },
          "shapedefaults": {
           "line": {
            "color": "#2a3f5f"
           }
          },
          "ternary": {
           "aaxis": {
            "gridcolor": "white",
            "linecolor": "white",
            "ticks": ""
           },
           "baxis": {
            "gridcolor": "white",
            "linecolor": "white",
            "ticks": ""
           },
           "bgcolor": "#E5ECF6",
           "caxis": {
            "gridcolor": "white",
            "linecolor": "white",
            "ticks": ""
           }
          },
          "title": {
           "x": 0.05
          },
          "xaxis": {
           "automargin": true,
           "gridcolor": "white",
           "linecolor": "white",
           "ticks": "",
           "title": {
            "standoff": 15
           },
           "zerolinecolor": "white",
           "zerolinewidth": 2
          },
          "yaxis": {
           "automargin": true,
           "gridcolor": "white",
           "linecolor": "white",
           "ticks": "",
           "title": {
            "standoff": 15
           },
           "zerolinecolor": "white",
           "zerolinewidth": 2
          }
         }
        },
        "title": {
         "text": "Elbow Method for Determining Optimal k"
        },
        "xaxis": {
         "anchor": "y",
         "domain": [
          0,
          1
         ],
         "tickmode": "linear",
         "title": {
          "text": "Number of clusters (k)"
         }
        },
        "yaxis": {
         "anchor": "x",
         "domain": [
          0,
          1
         ],
         "title": {
          "text": "Inertia"
         }
        }
       }
      }
     },
     "metadata": {},
     "output_type": "display_data"
    },
    {
     "name": "stdout",
     "output_type": "stream",
     "text": [
      "\n",
      "Cluster Assignments:\n",
      "                                                 title  Cluster\n",
      "0                     GENEVA Risk and Insurance Review        0\n",
      "1                            Marine Resource Economics        1\n",
      "2                 American Journal of Health Economics        0\n",
      "3               Asian Journal of Technology Innovation        0\n",
      "4                       Cambridge Journal of Economics        0\n",
      "..                                                 ...      ...\n",
      "96   International Journal of Marketing Semiotics a...        1\n",
      "97   Competitive Government: Public Private Partner...        1\n",
      "98   Public Administration, Governance and Globaliz...        1\n",
      "99   Revista del Ministerio de Trabajo y Economia S...        1\n",
      "100             Zeitschrift fur Unternehmensgeschichte        0\n",
      "\n",
      "[101 rows x 2 columns]\n"
     ]
    },
    {
     "data": {
      "application/vnd.plotly.v1+json": {
       "config": {
        "plotlyServerURL": "https://plot.ly"
       },
       "data": [
        {
         "customdata": [
          [
           "GENEVA Risk and Insurance Review"
          ],
          [
           "Marine Resource Economics"
          ],
          [
           "American Journal of Health Economics"
          ],
          [
           "Asian Journal of Technology Innovation"
          ],
          [
           "Cambridge Journal of Economics"
          ],
          [
           "Agricultural Economics (Czech Republic)"
          ],
          [
           "Studies in Economics and Finance"
          ],
          [
           "Review of Accounting and Finance"
          ],
          [
           "Journal of Accounting, Auditing and Finance"
          ],
          [
           "Journal of International Money and Finance"
          ],
          [
           "International Journal of Digital Accounting Research"
          ],
          [
           "Econometrics Journal"
          ],
          [
           "Journal of Pension Economics and Finance"
          ],
          [
           "Pakistan Journal of Commerce and Social Sciences"
          ],
          [
           "Journal of Advertising Research"
          ],
          [
           "Amfiteatru Economic"
          ],
          [
           "World Journal of Entrepreneurship, Management and Sustainable Development"
          ],
          [
           "Chinese Economy"
          ],
          [
           "Mathematical Finance"
          ],
          [
           "Public Relations Inquiry"
          ],
          [
           "Journal of the Economics of Ageing"
          ],
          [
           "International Journal of Managerial Finance"
          ],
          [
           "Sport, Business and Management: An International Journal"
          ],
          [
           "Venture Capital"
          ],
          [
           "Journal of Political Marketing"
          ],
          [
           "Quantitative Economics"
          ],
          [
           "Experimental Economics"
          ],
          [
           "Journal of Electronic Commerce in Organizations"
          ],
          [
           "Economics of Energy and Environmental Policy"
          ],
          [
           "Review of Income and Wealth"
          ],
          [
           "Real Estate Economics"
          ],
          [
           "Journal of Global Scholars of Marketing Science: Bridging Asia and the World"
          ],
          [
           "Journal of Economic Studies"
          ],
          [
           "Journal of International Trade and Economic Development"
          ],
          [
           "Defence and Peace Economics"
          ],
          [
           "Societies and Political Orders in Transition"
          ],
          [
           "Computational Economics"
          ],
          [
           "City, Culture and Society"
          ],
          [
           "Economies"
          ],
          [
           "Conflict Management and Peace Science"
          ],
          [
           "Small Enterprise Research"
          ],
          [
           "Qualitative Market Research"
          ],
          [
           "Journal of Nonprofit and Public Sector Marketing"
          ],
          [
           "International Journal of Applied Ceramic Technology"
          ],
          [
           "Australasian Accounting, Business and Finance Journal"
          ],
          [
           "Frontiers in Energy Research"
          ],
          [
           "Economia Politica"
          ],
          [
           "Geneva Papers on Risk and Insurance: Issues and Practice"
          ],
          [
           "Journal of Finance and Data Science"
          ],
          [
           "Montenegrin Journal of Economics"
          ],
          [
           "EconomiA"
          ],
          [
           "Economic Inquiry"
          ],
          [
           "Capital and Class"
          ],
          [
           "Nonlinear Analysis: Real World Applications"
          ],
          [
           "Journal of Economic Behavior and Organization"
          ],
          [
           "Applied Economics"
          ],
          [
           "Pacific Accounting Review"
          ],
          [
           "New England Journal of Entrepreneurship"
          ],
          [
           "Place Branding and Public Diplomacy"
          ],
          [
           "ACM Transactions on Economics and Computation"
          ],
          [
           "Annals of Public and Cooperative Economics"
          ],
          [
           "Journal of Real Estate Finance and Economics"
          ],
          [
           "Risks"
          ],
          [
           "Cuadernos de Economia"
          ],
          [
           "Qualitative Research in Organizations and Management"
          ],
          [
           "Humanities and Social Sciences Communications"
          ],
          [
           "International Review on Public and Nonprofit Marketing"
          ],
          [
           "Journal of Futures Markets"
          ],
          [
           "Journal of Applied Econometrics"
          ],
          [
           "International Journal of Auditing"
          ],
          [
           "National Institute Economic Review"
          ],
          [
           "Journal of Financial Management of Property and Construction"
          ],
          [
           "Journal of Banking Regulation"
          ],
          [
           "Risk Management"
          ],
          [
           "Economic Development and Cultural Change"
          ],
          [
           "Journal of Economic Growth"
          ],
          [
           "International Journal of Financial Studies"
          ],
          [
           "Contemporary Economics"
          ],
          [
           "Agricultural Finance Review"
          ],
          [
           "Journal of Bioeconomics"
          ],
          [
           "ClinicoEconomics and Outcomes Research"
          ],
          [
           "Global Policy"
          ],
          [
           "Economic History Review"
          ],
          [
           "Labour Economics"
          ],
          [
           "Foundations and Trends in Econometrics"
          ],
          [
           "Journal of Financial Counseling and Planning"
          ],
          [
           "Developing Economies"
          ],
          [
           "International Journal of Health Economics and Management"
          ],
          [
           "Journal of Economic Inequality"
          ],
          [
           "Journal of Evolutionary Economics"
          ],
          [
           "Public Choice"
          ],
          [
           "Environmental Economics"
          ],
          [
           "Journal of Financial Data Science"
          ],
          [
           "Advanced Studies in Theoretical and Applied Econometrics"
          ],
          [
           "Journal of Empirical Generalisations in Marketing Science"
          ],
          [
           "Keramische Zeitschrift"
          ],
          [
           "International Journal of Marketing Semiotics and Discourse Studies"
          ],
          [
           "Competitive Government: Public Private Partnerships"
          ],
          [
           "Public Administration, Governance and Globalization"
          ],
          [
           "Revista del Ministerio de Trabajo y Economia Social"
          ],
          [
           "Zeitschrift fur Unternehmensgeschichte"
          ]
         ],
         "hovertemplate": "2020 - 2023=%{x}<br>Document=%{y}<br>title=%{customdata[0]}<br>Cluster=%{marker.color}<extra></extra>",
         "legendgroup": "",
         "marker": {
          "color": [
           0,
           1,
           0,
           0,
           0,
           1,
           0,
           0,
           1,
           1,
           0,
           1,
           1,
           0,
           1,
           1,
           1,
           0,
           0,
           1,
           0,
           0,
           0,
           1,
           1,
           0,
           0,
           1,
           1,
           0,
           0,
           1,
           1,
           0,
           0,
           0,
           0,
           0,
           0,
           1,
           1,
           0,
           0,
           1,
           1,
           0,
           1,
           0,
           0,
           0,
           1,
           0,
           1,
           1,
           0,
           0,
           1,
           1,
           1,
           1,
           0,
           1,
           0,
           1,
           1,
           0,
           0,
           0,
           1,
           0,
           1,
           1,
           0,
           0,
           0,
           1,
           1,
           0,
           0,
           0,
           0,
           1,
           0,
           0,
           1,
           1,
           1,
           0,
           0,
           0,
           1,
           0,
           1,
           1,
           1,
           0,
           1,
           1,
           1,
           1,
           0
          ],
          "coloraxis": "coloraxis",
          "symbol": "circle"
         },
         "mode": "markers",
         "name": "",
         "orientation": "v",
         "showlegend": false,
         "type": "scatter",
         "x": [
          141,
          376,
          333,
          456,
          904,
          879,
          723,
          350,
          582,
          2376,
          114,
          518,
          373,
          571,
          461,
          1042,
          592,
          467,
          629,
          268,
          724,
          642,
          385,
          229,
          268,
          683,
          756,
          274,
          342,
          711,
          787,
          545,
          1422,
          911,
          892,
          846,
          1816,
          409,
          3752,
          509,
          291,
          567,
          361,
          4382,
          690,
          16711,
          527,
          487,
          210,
          1039,
          193,
          1269,
          447,
          2467,
          6316,
          6423,
          510,
          115,
          544,
          271,
          589,
          728,
          3088,
          510,
          434,
          7045,
          492,
          1255,
          869,
          401,
          378,
          307,
          396,
          263,
          575,
          191,
          1545,
          472,
          629,
          114,
          1034,
          1566,
          635,
          1662,
          25,
          433,
          136,
          317,
          507,
          693,
          1204,
          208,
          491,
          133,
          3,
          14,
          3,
          22,
          12,
          23,
          12
         ],
         "xaxis": "x",
         "y": [
          342,
          138,
          383,
          339,
          267,
          144,
          320,
          342,
          172,
          198,
          261,
          142,
          152,
          296,
          241,
          183,
          196,
          326,
          341,
          144,
          322,
          343,
          297,
          191,
          127,
          358,
          262,
          156,
          213,
          272,
          359,
          102,
          188,
          359,
          321,
          384,
          360,
          342,
          250,
          194,
          232,
          374,
          345,
          132,
          133,
          291,
          210,
          323,
          272,
          275,
          151,
          274,
          184,
          196,
          318,
          220,
          191,
          135,
          169,
          222,
          385,
          156,
          276,
          249,
          143,
          381,
          386,
          321,
          184,
          290,
          161,
          104,
          263,
          359,
          399,
          211,
          175,
          400,
          284,
          309,
          251,
          164,
          345,
          375,
          173,
          131,
          219,
          354,
          386,
          260,
          149,
          316,
          233,
          202,
          139,
          336,
          186,
          225,
          212,
          175,
          389
         ],
         "yaxis": "y"
        },
        {
         "marker": {
          "color": "red",
          "size": 15,
          "symbol": "x"
         },
         "mode": "markers",
         "name": "Centroids",
         "type": "scatter",
         "x": [
          1354.4528301886792,
          635.5416666666666
         ],
         "y": [
          324.58490566037733,
          175.5625
         ]
        }
       ],
       "layout": {
        "annotations": [
         {
          "font": {
           "size": 10
          },
          "showarrow": false,
          "text": "GENEVA Risk and Insurance Review",
          "x": 151,
          "y": 352
         },
         {
          "font": {
           "size": 10
          },
          "showarrow": false,
          "text": "Marine Resource Economics",
          "x": 386,
          "y": 148
         },
         {
          "font": {
           "size": 10
          },
          "showarrow": false,
          "text": "American Journal of Health Economics",
          "x": 343,
          "y": 393
         },
         {
          "font": {
           "size": 10
          },
          "showarrow": false,
          "text": "Asian Journal of Technology Innovation",
          "x": 466,
          "y": 349
         },
         {
          "font": {
           "size": 10
          },
          "showarrow": false,
          "text": "Cambridge Journal of Economics",
          "x": 914,
          "y": 277
         },
         {
          "font": {
           "size": 10
          },
          "showarrow": false,
          "text": "Agricultural Economics (Czech Republic)",
          "x": 889,
          "y": 154
         },
         {
          "font": {
           "size": 10
          },
          "showarrow": false,
          "text": "Studies in Economics and Finance",
          "x": 733,
          "y": 330
         },
         {
          "font": {
           "size": 10
          },
          "showarrow": false,
          "text": "Review of Accounting and Finance",
          "x": 360,
          "y": 352
         },
         {
          "font": {
           "size": 10
          },
          "showarrow": false,
          "text": "Journal of Accounting, Auditing and Finance",
          "x": 592,
          "y": 182
         },
         {
          "font": {
           "size": 10
          },
          "showarrow": false,
          "text": "Journal of International Money and Finance",
          "x": 2386,
          "y": 208
         },
         {
          "font": {
           "size": 10
          },
          "showarrow": false,
          "text": "International Journal of Digital Accounting Research",
          "x": 124,
          "y": 271
         },
         {
          "font": {
           "size": 10
          },
          "showarrow": false,
          "text": "Econometrics Journal",
          "x": 528,
          "y": 152
         },
         {
          "font": {
           "size": 10
          },
          "showarrow": false,
          "text": "Journal of Pension Economics and Finance",
          "x": 383,
          "y": 162
         },
         {
          "font": {
           "size": 10
          },
          "showarrow": false,
          "text": "Pakistan Journal of Commerce and Social Sciences",
          "x": 581,
          "y": 306
         },
         {
          "font": {
           "size": 10
          },
          "showarrow": false,
          "text": "Journal of Advertising Research",
          "x": 471,
          "y": 251
         },
         {
          "font": {
           "size": 10
          },
          "showarrow": false,
          "text": "Amfiteatru Economic",
          "x": 1052,
          "y": 193
         },
         {
          "font": {
           "size": 10
          },
          "showarrow": false,
          "text": "World Journal of Entrepreneurship, Management and Sustainable Development",
          "x": 602,
          "y": 206
         },
         {
          "font": {
           "size": 10
          },
          "showarrow": false,
          "text": "Chinese Economy",
          "x": 477,
          "y": 336
         },
         {
          "font": {
           "size": 10
          },
          "showarrow": false,
          "text": "Mathematical Finance",
          "x": 639,
          "y": 351
         },
         {
          "font": {
           "size": 10
          },
          "showarrow": false,
          "text": "Public Relations Inquiry",
          "x": 278,
          "y": 154
         },
         {
          "font": {
           "size": 10
          },
          "showarrow": false,
          "text": "Journal of the Economics of Ageing",
          "x": 734,
          "y": 332
         },
         {
          "font": {
           "size": 10
          },
          "showarrow": false,
          "text": "International Journal of Managerial Finance",
          "x": 652,
          "y": 353
         },
         {
          "font": {
           "size": 10
          },
          "showarrow": false,
          "text": "Sport, Business and Management: An International Journal",
          "x": 395,
          "y": 307
         },
         {
          "font": {
           "size": 10
          },
          "showarrow": false,
          "text": "Venture Capital",
          "x": 239,
          "y": 201
         },
         {
          "font": {
           "size": 10
          },
          "showarrow": false,
          "text": "Journal of Political Marketing",
          "x": 278,
          "y": 137
         },
         {
          "font": {
           "size": 10
          },
          "showarrow": false,
          "text": "Quantitative Economics",
          "x": 693,
          "y": 368
         },
         {
          "font": {
           "size": 10
          },
          "showarrow": false,
          "text": "Experimental Economics",
          "x": 766,
          "y": 272
         },
         {
          "font": {
           "size": 10
          },
          "showarrow": false,
          "text": "Journal of Electronic Commerce in Organizations",
          "x": 284,
          "y": 166
         },
         {
          "font": {
           "size": 10
          },
          "showarrow": false,
          "text": "Economics of Energy and Environmental Policy",
          "x": 352,
          "y": 223
         },
         {
          "font": {
           "size": 10
          },
          "showarrow": false,
          "text": "Review of Income and Wealth",
          "x": 721,
          "y": 282
         },
         {
          "font": {
           "size": 10
          },
          "showarrow": false,
          "text": "Real Estate Economics",
          "x": 797,
          "y": 369
         },
         {
          "font": {
           "size": 10
          },
          "showarrow": false,
          "text": "Journal of Global Scholars of Marketing Science: Bridging Asia and the World",
          "x": 555,
          "y": 112
         },
         {
          "font": {
           "size": 10
          },
          "showarrow": false,
          "text": "Journal of Economic Studies",
          "x": 1432,
          "y": 198
         },
         {
          "font": {
           "size": 10
          },
          "showarrow": false,
          "text": "Journal of International Trade and Economic Development",
          "x": 921,
          "y": 369
         },
         {
          "font": {
           "size": 10
          },
          "showarrow": false,
          "text": "Defence and Peace Economics",
          "x": 902,
          "y": 331
         },
         {
          "font": {
           "size": 10
          },
          "showarrow": false,
          "text": "Societies and Political Orders in Transition",
          "x": 856,
          "y": 394
         },
         {
          "font": {
           "size": 10
          },
          "showarrow": false,
          "text": "Computational Economics",
          "x": 1826,
          "y": 370
         },
         {
          "font": {
           "size": 10
          },
          "showarrow": false,
          "text": "City, Culture and Society",
          "x": 419,
          "y": 352
         },
         {
          "font": {
           "size": 10
          },
          "showarrow": false,
          "text": "Economies",
          "x": 3762,
          "y": 260
         },
         {
          "font": {
           "size": 10
          },
          "showarrow": false,
          "text": "Conflict Management and Peace Science",
          "x": 519,
          "y": 204
         },
         {
          "font": {
           "size": 10
          },
          "showarrow": false,
          "text": "Small Enterprise Research",
          "x": 301,
          "y": 242
         },
         {
          "font": {
           "size": 10
          },
          "showarrow": false,
          "text": "Qualitative Market Research",
          "x": 577,
          "y": 384
         },
         {
          "font": {
           "size": 10
          },
          "showarrow": false,
          "text": "Journal of Nonprofit and Public Sector Marketing",
          "x": 371,
          "y": 355
         },
         {
          "font": {
           "size": 10
          },
          "showarrow": false,
          "text": "International Journal of Applied Ceramic Technology",
          "x": 4392,
          "y": 142
         },
         {
          "font": {
           "size": 10
          },
          "showarrow": false,
          "text": "Australasian Accounting, Business and Finance Journal",
          "x": 700,
          "y": 143
         },
         {
          "font": {
           "size": 10
          },
          "showarrow": false,
          "text": "Frontiers in Energy Research",
          "x": 16721,
          "y": 301
         },
         {
          "font": {
           "size": 10
          },
          "showarrow": false,
          "text": "Economia Politica",
          "x": 537,
          "y": 220
         },
         {
          "font": {
           "size": 10
          },
          "showarrow": false,
          "text": "Geneva Papers on Risk and Insurance: Issues and Practice",
          "x": 497,
          "y": 333
         },
         {
          "font": {
           "size": 10
          },
          "showarrow": false,
          "text": "Journal of Finance and Data Science",
          "x": 220,
          "y": 282
         },
         {
          "font": {
           "size": 10
          },
          "showarrow": false,
          "text": "Montenegrin Journal of Economics",
          "x": 1049,
          "y": 285
         },
         {
          "font": {
           "size": 10
          },
          "showarrow": false,
          "text": "EconomiA",
          "x": 203,
          "y": 161
         },
         {
          "font": {
           "size": 10
          },
          "showarrow": false,
          "text": "Economic Inquiry",
          "x": 1279,
          "y": 284
         },
         {
          "font": {
           "size": 10
          },
          "showarrow": false,
          "text": "Capital and Class",
          "x": 457,
          "y": 194
         },
         {
          "font": {
           "size": 10
          },
          "showarrow": false,
          "text": "Nonlinear Analysis: Real World Applications",
          "x": 2477,
          "y": 206
         },
         {
          "font": {
           "size": 10
          },
          "showarrow": false,
          "text": "Journal of Economic Behavior and Organization",
          "x": 6326,
          "y": 328
         },
         {
          "font": {
           "size": 10
          },
          "showarrow": false,
          "text": "Applied Economics",
          "x": 6433,
          "y": 230
         },
         {
          "font": {
           "size": 10
          },
          "showarrow": false,
          "text": "Pacific Accounting Review",
          "x": 520,
          "y": 201
         },
         {
          "font": {
           "size": 10
          },
          "showarrow": false,
          "text": "New England Journal of Entrepreneurship",
          "x": 125,
          "y": 145
         },
         {
          "font": {
           "size": 10
          },
          "showarrow": false,
          "text": "Place Branding and Public Diplomacy",
          "x": 554,
          "y": 179
         },
         {
          "font": {
           "size": 10
          },
          "showarrow": false,
          "text": "ACM Transactions on Economics and Computation",
          "x": 281,
          "y": 232
         },
         {
          "font": {
           "size": 10
          },
          "showarrow": false,
          "text": "Annals of Public and Cooperative Economics",
          "x": 599,
          "y": 395
         },
         {
          "font": {
           "size": 10
          },
          "showarrow": false,
          "text": "Journal of Real Estate Finance and Economics",
          "x": 738,
          "y": 166
         },
         {
          "font": {
           "size": 10
          },
          "showarrow": false,
          "text": "Risks",
          "x": 3098,
          "y": 286
         },
         {
          "font": {
           "size": 10
          },
          "showarrow": false,
          "text": "Cuadernos de Economia",
          "x": 520,
          "y": 259
         },
         {
          "font": {
           "size": 10
          },
          "showarrow": false,
          "text": "Qualitative Research in Organizations and Management",
          "x": 444,
          "y": 153
         },
         {
          "font": {
           "size": 10
          },
          "showarrow": false,
          "text": "Humanities and Social Sciences Communications",
          "x": 7055,
          "y": 391
         },
         {
          "font": {
           "size": 10
          },
          "showarrow": false,
          "text": "International Review on Public and Nonprofit Marketing",
          "x": 502,
          "y": 396
         },
         {
          "font": {
           "size": 10
          },
          "showarrow": false,
          "text": "Journal of Futures Markets",
          "x": 1265,
          "y": 331
         },
         {
          "font": {
           "size": 10
          },
          "showarrow": false,
          "text": "Journal of Applied Econometrics",
          "x": 879,
          "y": 194
         },
         {
          "font": {
           "size": 10
          },
          "showarrow": false,
          "text": "International Journal of Auditing",
          "x": 411,
          "y": 300
         },
         {
          "font": {
           "size": 10
          },
          "showarrow": false,
          "text": "National Institute Economic Review",
          "x": 388,
          "y": 171
         },
         {
          "font": {
           "size": 10
          },
          "showarrow": false,
          "text": "Journal of Financial Management of Property and Construction",
          "x": 317,
          "y": 114
         },
         {
          "font": {
           "size": 10
          },
          "showarrow": false,
          "text": "Journal of Banking Regulation",
          "x": 406,
          "y": 273
         },
         {
          "font": {
           "size": 10
          },
          "showarrow": false,
          "text": "Risk Management",
          "x": 273,
          "y": 369
         },
         {
          "font": {
           "size": 10
          },
          "showarrow": false,
          "text": "Economic Development and Cultural Change",
          "x": 585,
          "y": 409
         },
         {
          "font": {
           "size": 10
          },
          "showarrow": false,
          "text": "Journal of Economic Growth",
          "x": 201,
          "y": 221
         },
         {
          "font": {
           "size": 10
          },
          "showarrow": false,
          "text": "International Journal of Financial Studies",
          "x": 1555,
          "y": 185
         },
         {
          "font": {
           "size": 10
          },
          "showarrow": false,
          "text": "Contemporary Economics",
          "x": 482,
          "y": 410
         },
         {
          "font": {
           "size": 10
          },
          "showarrow": false,
          "text": "Agricultural Finance Review",
          "x": 639,
          "y": 294
         },
         {
          "font": {
           "size": 10
          },
          "showarrow": false,
          "text": "Journal of Bioeconomics",
          "x": 124,
          "y": 319
         },
         {
          "font": {
           "size": 10
          },
          "showarrow": false,
          "text": "ClinicoEconomics and Outcomes Research",
          "x": 1044,
          "y": 261
         },
         {
          "font": {
           "size": 10
          },
          "showarrow": false,
          "text": "Global Policy",
          "x": 1576,
          "y": 174
         },
         {
          "font": {
           "size": 10
          },
          "showarrow": false,
          "text": "Economic History Review",
          "x": 645,
          "y": 355
         },
         {
          "font": {
           "size": 10
          },
          "showarrow": false,
          "text": "Labour Economics",
          "x": 1672,
          "y": 385
         },
         {
          "font": {
           "size": 10
          },
          "showarrow": false,
          "text": "Foundations and Trends in Econometrics",
          "x": 35,
          "y": 183
         },
         {
          "font": {
           "size": 10
          },
          "showarrow": false,
          "text": "Journal of Financial Counseling and Planning",
          "x": 443,
          "y": 141
         },
         {
          "font": {
           "size": 10
          },
          "showarrow": false,
          "text": "Developing Economies",
          "x": 146,
          "y": 229
         },
         {
          "font": {
           "size": 10
          },
          "showarrow": false,
          "text": "International Journal of Health Economics and Management",
          "x": 327,
          "y": 364
         },
         {
          "font": {
           "size": 10
          },
          "showarrow": false,
          "text": "Journal of Economic Inequality",
          "x": 517,
          "y": 396
         },
         {
          "font": {
           "size": 10
          },
          "showarrow": false,
          "text": "Journal of Evolutionary Economics",
          "x": 703,
          "y": 270
         },
         {
          "font": {
           "size": 10
          },
          "showarrow": false,
          "text": "Public Choice",
          "x": 1214,
          "y": 159
         },
         {
          "font": {
           "size": 10
          },
          "showarrow": false,
          "text": "Environmental Economics",
          "x": 218,
          "y": 326
         },
         {
          "font": {
           "size": 10
          },
          "showarrow": false,
          "text": "Journal of Financial Data Science",
          "x": 501,
          "y": 243
         },
         {
          "font": {
           "size": 10
          },
          "showarrow": false,
          "text": "Advanced Studies in Theoretical and Applied Econometrics",
          "x": 143,
          "y": 212
         },
         {
          "font": {
           "size": 10
          },
          "showarrow": false,
          "text": "Journal of Empirical Generalisations in Marketing Science",
          "x": 13,
          "y": 149
         },
         {
          "font": {
           "size": 10
          },
          "showarrow": false,
          "text": "Keramische Zeitschrift",
          "x": 24,
          "y": 346
         },
         {
          "font": {
           "size": 10
          },
          "showarrow": false,
          "text": "International Journal of Marketing Semiotics and Discourse Studies",
          "x": 13,
          "y": 196
         },
         {
          "font": {
           "size": 10
          },
          "showarrow": false,
          "text": "Competitive Government: Public Private Partnerships",
          "x": 32,
          "y": 235
         },
         {
          "font": {
           "size": 10
          },
          "showarrow": false,
          "text": "Public Administration, Governance and Globalization",
          "x": 22,
          "y": 222
         },
         {
          "font": {
           "size": 10
          },
          "showarrow": false,
          "text": "Revista del Ministerio de Trabajo y Economia Social",
          "x": 33,
          "y": 185
         },
         {
          "font": {
           "size": 10
          },
          "showarrow": false,
          "text": "Zeitschrift fur Unternehmensgeschichte",
          "x": 22,
          "y": 399
         }
        ],
        "coloraxis": {
         "colorbar": {
          "title": {
           "text": "Cluster"
          }
         },
         "colorscale": [
          [
           0,
           "#0d0887"
          ],
          [
           0.1111111111111111,
           "#46039f"
          ],
          [
           0.2222222222222222,
           "#7201a8"
          ],
          [
           0.3333333333333333,
           "#9c179e"
          ],
          [
           0.4444444444444444,
           "#bd3786"
          ],
          [
           0.5555555555555556,
           "#d8576b"
          ],
          [
           0.6666666666666666,
           "#ed7953"
          ],
          [
           0.7777777777777778,
           "#fb9f3a"
          ],
          [
           0.8888888888888888,
           "#fdca26"
          ],
          [
           1,
           "#f0f921"
          ]
         ]
        },
        "legend": {
         "title": {
          "text": "Cluster"
         },
         "tracegroupgap": 0
        },
        "template": {
         "data": {
          "bar": [
           {
            "error_x": {
             "color": "#2a3f5f"
            },
            "error_y": {
             "color": "#2a3f5f"
            },
            "marker": {
             "line": {
              "color": "#E5ECF6",
              "width": 0.5
             },
             "pattern": {
              "fillmode": "overlay",
              "size": 10,
              "solidity": 0.2
             }
            },
            "type": "bar"
           }
          ],
          "barpolar": [
           {
            "marker": {
             "line": {
              "color": "#E5ECF6",
              "width": 0.5
             },
             "pattern": {
              "fillmode": "overlay",
              "size": 10,
              "solidity": 0.2
             }
            },
            "type": "barpolar"
           }
          ],
          "carpet": [
           {
            "aaxis": {
             "endlinecolor": "#2a3f5f",
             "gridcolor": "white",
             "linecolor": "white",
             "minorgridcolor": "white",
             "startlinecolor": "#2a3f5f"
            },
            "baxis": {
             "endlinecolor": "#2a3f5f",
             "gridcolor": "white",
             "linecolor": "white",
             "minorgridcolor": "white",
             "startlinecolor": "#2a3f5f"
            },
            "type": "carpet"
           }
          ],
          "choropleth": [
           {
            "colorbar": {
             "outlinewidth": 0,
             "ticks": ""
            },
            "type": "choropleth"
           }
          ],
          "contour": [
           {
            "colorbar": {
             "outlinewidth": 0,
             "ticks": ""
            },
            "colorscale": [
             [
              0,
              "#0d0887"
             ],
             [
              0.1111111111111111,
              "#46039f"
             ],
             [
              0.2222222222222222,
              "#7201a8"
             ],
             [
              0.3333333333333333,
              "#9c179e"
             ],
             [
              0.4444444444444444,
              "#bd3786"
             ],
             [
              0.5555555555555556,
              "#d8576b"
             ],
             [
              0.6666666666666666,
              "#ed7953"
             ],
             [
              0.7777777777777778,
              "#fb9f3a"
             ],
             [
              0.8888888888888888,
              "#fdca26"
             ],
             [
              1,
              "#f0f921"
             ]
            ],
            "type": "contour"
           }
          ],
          "contourcarpet": [
           {
            "colorbar": {
             "outlinewidth": 0,
             "ticks": ""
            },
            "type": "contourcarpet"
           }
          ],
          "heatmap": [
           {
            "colorbar": {
             "outlinewidth": 0,
             "ticks": ""
            },
            "colorscale": [
             [
              0,
              "#0d0887"
             ],
             [
              0.1111111111111111,
              "#46039f"
             ],
             [
              0.2222222222222222,
              "#7201a8"
             ],
             [
              0.3333333333333333,
              "#9c179e"
             ],
             [
              0.4444444444444444,
              "#bd3786"
             ],
             [
              0.5555555555555556,
              "#d8576b"
             ],
             [
              0.6666666666666666,
              "#ed7953"
             ],
             [
              0.7777777777777778,
              "#fb9f3a"
             ],
             [
              0.8888888888888888,
              "#fdca26"
             ],
             [
              1,
              "#f0f921"
             ]
            ],
            "type": "heatmap"
           }
          ],
          "heatmapgl": [
           {
            "colorbar": {
             "outlinewidth": 0,
             "ticks": ""
            },
            "colorscale": [
             [
              0,
              "#0d0887"
             ],
             [
              0.1111111111111111,
              "#46039f"
             ],
             [
              0.2222222222222222,
              "#7201a8"
             ],
             [
              0.3333333333333333,
              "#9c179e"
             ],
             [
              0.4444444444444444,
              "#bd3786"
             ],
             [
              0.5555555555555556,
              "#d8576b"
             ],
             [
              0.6666666666666666,
              "#ed7953"
             ],
             [
              0.7777777777777778,
              "#fb9f3a"
             ],
             [
              0.8888888888888888,
              "#fdca26"
             ],
             [
              1,
              "#f0f921"
             ]
            ],
            "type": "heatmapgl"
           }
          ],
          "histogram": [
           {
            "marker": {
             "pattern": {
              "fillmode": "overlay",
              "size": 10,
              "solidity": 0.2
             }
            },
            "type": "histogram"
           }
          ],
          "histogram2d": [
           {
            "colorbar": {
             "outlinewidth": 0,
             "ticks": ""
            },
            "colorscale": [
             [
              0,
              "#0d0887"
             ],
             [
              0.1111111111111111,
              "#46039f"
             ],
             [
              0.2222222222222222,
              "#7201a8"
             ],
             [
              0.3333333333333333,
              "#9c179e"
             ],
             [
              0.4444444444444444,
              "#bd3786"
             ],
             [
              0.5555555555555556,
              "#d8576b"
             ],
             [
              0.6666666666666666,
              "#ed7953"
             ],
             [
              0.7777777777777778,
              "#fb9f3a"
             ],
             [
              0.8888888888888888,
              "#fdca26"
             ],
             [
              1,
              "#f0f921"
             ]
            ],
            "type": "histogram2d"
           }
          ],
          "histogram2dcontour": [
           {
            "colorbar": {
             "outlinewidth": 0,
             "ticks": ""
            },
            "colorscale": [
             [
              0,
              "#0d0887"
             ],
             [
              0.1111111111111111,
              "#46039f"
             ],
             [
              0.2222222222222222,
              "#7201a8"
             ],
             [
              0.3333333333333333,
              "#9c179e"
             ],
             [
              0.4444444444444444,
              "#bd3786"
             ],
             [
              0.5555555555555556,
              "#d8576b"
             ],
             [
              0.6666666666666666,
              "#ed7953"
             ],
             [
              0.7777777777777778,
              "#fb9f3a"
             ],
             [
              0.8888888888888888,
              "#fdca26"
             ],
             [
              1,
              "#f0f921"
             ]
            ],
            "type": "histogram2dcontour"
           }
          ],
          "mesh3d": [
           {
            "colorbar": {
             "outlinewidth": 0,
             "ticks": ""
            },
            "type": "mesh3d"
           }
          ],
          "parcoords": [
           {
            "line": {
             "colorbar": {
              "outlinewidth": 0,
              "ticks": ""
             }
            },
            "type": "parcoords"
           }
          ],
          "pie": [
           {
            "automargin": true,
            "type": "pie"
           }
          ],
          "scatter": [
           {
            "fillpattern": {
             "fillmode": "overlay",
             "size": 10,
             "solidity": 0.2
            },
            "type": "scatter"
           }
          ],
          "scatter3d": [
           {
            "line": {
             "colorbar": {
              "outlinewidth": 0,
              "ticks": ""
             }
            },
            "marker": {
             "colorbar": {
              "outlinewidth": 0,
              "ticks": ""
             }
            },
            "type": "scatter3d"
           }
          ],
          "scattercarpet": [
           {
            "marker": {
             "colorbar": {
              "outlinewidth": 0,
              "ticks": ""
             }
            },
            "type": "scattercarpet"
           }
          ],
          "scattergeo": [
           {
            "marker": {
             "colorbar": {
              "outlinewidth": 0,
              "ticks": ""
             }
            },
            "type": "scattergeo"
           }
          ],
          "scattergl": [
           {
            "marker": {
             "colorbar": {
              "outlinewidth": 0,
              "ticks": ""
             }
            },
            "type": "scattergl"
           }
          ],
          "scattermapbox": [
           {
            "marker": {
             "colorbar": {
              "outlinewidth": 0,
              "ticks": ""
             }
            },
            "type": "scattermapbox"
           }
          ],
          "scatterpolar": [
           {
            "marker": {
             "colorbar": {
              "outlinewidth": 0,
              "ticks": ""
             }
            },
            "type": "scatterpolar"
           }
          ],
          "scatterpolargl": [
           {
            "marker": {
             "colorbar": {
              "outlinewidth": 0,
              "ticks": ""
             }
            },
            "type": "scatterpolargl"
           }
          ],
          "scatterternary": [
           {
            "marker": {
             "colorbar": {
              "outlinewidth": 0,
              "ticks": ""
             }
            },
            "type": "scatterternary"
           }
          ],
          "surface": [
           {
            "colorbar": {
             "outlinewidth": 0,
             "ticks": ""
            },
            "colorscale": [
             [
              0,
              "#0d0887"
             ],
             [
              0.1111111111111111,
              "#46039f"
             ],
             [
              0.2222222222222222,
              "#7201a8"
             ],
             [
              0.3333333333333333,
              "#9c179e"
             ],
             [
              0.4444444444444444,
              "#bd3786"
             ],
             [
              0.5555555555555556,
              "#d8576b"
             ],
             [
              0.6666666666666666,
              "#ed7953"
             ],
             [
              0.7777777777777778,
              "#fb9f3a"
             ],
             [
              0.8888888888888888,
              "#fdca26"
             ],
             [
              1,
              "#f0f921"
             ]
            ],
            "type": "surface"
           }
          ],
          "table": [
           {
            "cells": {
             "fill": {
              "color": "#EBF0F8"
             },
             "line": {
              "color": "white"
             }
            },
            "header": {
             "fill": {
              "color": "#C8D4E3"
             },
             "line": {
              "color": "white"
             }
            },
            "type": "table"
           }
          ]
         },
         "layout": {
          "annotationdefaults": {
           "arrowcolor": "#2a3f5f",
           "arrowhead": 0,
           "arrowwidth": 1
          },
          "autotypenumbers": "strict",
          "coloraxis": {
           "colorbar": {
            "outlinewidth": 0,
            "ticks": ""
           }
          },
          "colorscale": {
           "diverging": [
            [
             0,
             "#8e0152"
            ],
            [
             0.1,
             "#c51b7d"
            ],
            [
             0.2,
             "#de77ae"
            ],
            [
             0.3,
             "#f1b6da"
            ],
            [
             0.4,
             "#fde0ef"
            ],
            [
             0.5,
             "#f7f7f7"
            ],
            [
             0.6,
             "#e6f5d0"
            ],
            [
             0.7,
             "#b8e186"
            ],
            [
             0.8,
             "#7fbc41"
            ],
            [
             0.9,
             "#4d9221"
            ],
            [
             1,
             "#276419"
            ]
           ],
           "sequential": [
            [
             0,
             "#0d0887"
            ],
            [
             0.1111111111111111,
             "#46039f"
            ],
            [
             0.2222222222222222,
             "#7201a8"
            ],
            [
             0.3333333333333333,
             "#9c179e"
            ],
            [
             0.4444444444444444,
             "#bd3786"
            ],
            [
             0.5555555555555556,
             "#d8576b"
            ],
            [
             0.6666666666666666,
             "#ed7953"
            ],
            [
             0.7777777777777778,
             "#fb9f3a"
            ],
            [
             0.8888888888888888,
             "#fdca26"
            ],
            [
             1,
             "#f0f921"
            ]
           ],
           "sequentialminus": [
            [
             0,
             "#0d0887"
            ],
            [
             0.1111111111111111,
             "#46039f"
            ],
            [
             0.2222222222222222,
             "#7201a8"
            ],
            [
             0.3333333333333333,
             "#9c179e"
            ],
            [
             0.4444444444444444,
             "#bd3786"
            ],
            [
             0.5555555555555556,
             "#d8576b"
            ],
            [
             0.6666666666666666,
             "#ed7953"
            ],
            [
             0.7777777777777778,
             "#fb9f3a"
            ],
            [
             0.8888888888888888,
             "#fdca26"
            ],
            [
             1,
             "#f0f921"
            ]
           ]
          },
          "colorway": [
           "#636efa",
           "#EF553B",
           "#00cc96",
           "#ab63fa",
           "#FFA15A",
           "#19d3f3",
           "#FF6692",
           "#B6E880",
           "#FF97FF",
           "#FECB52"
          ],
          "font": {
           "color": "#2a3f5f"
          },
          "geo": {
           "bgcolor": "white",
           "lakecolor": "white",
           "landcolor": "#E5ECF6",
           "showlakes": true,
           "showland": true,
           "subunitcolor": "white"
          },
          "hoverlabel": {
           "align": "left"
          },
          "hovermode": "closest",
          "mapbox": {
           "style": "light"
          },
          "paper_bgcolor": "white",
          "plot_bgcolor": "#E5ECF6",
          "polar": {
           "angularaxis": {
            "gridcolor": "white",
            "linecolor": "white",
            "ticks": ""
           },
           "bgcolor": "#E5ECF6",
           "radialaxis": {
            "gridcolor": "white",
            "linecolor": "white",
            "ticks": ""
           }
          },
          "scene": {
           "xaxis": {
            "backgroundcolor": "#E5ECF6",
            "gridcolor": "white",
            "gridwidth": 2,
            "linecolor": "white",
            "showbackground": true,
            "ticks": "",
            "zerolinecolor": "white"
           },
           "yaxis": {
            "backgroundcolor": "#E5ECF6",
            "gridcolor": "white",
            "gridwidth": 2,
            "linecolor": "white",
            "showbackground": true,
            "ticks": "",
            "zerolinecolor": "white"
           },
           "zaxis": {
            "backgroundcolor": "#E5ECF6",
            "gridcolor": "white",
            "gridwidth": 2,
            "linecolor": "white",
            "showbackground": true,
            "ticks": "",
            "zerolinecolor": "white"
           }
          },
          "shapedefaults": {
           "line": {
            "color": "#2a3f5f"
           }
          },
          "ternary": {
           "aaxis": {
            "gridcolor": "white",
            "linecolor": "white",
            "ticks": ""
           },
           "baxis": {
            "gridcolor": "white",
            "linecolor": "white",
            "ticks": ""
           },
           "bgcolor": "#E5ECF6",
           "caxis": {
            "gridcolor": "white",
            "linecolor": "white",
            "ticks": ""
           }
          },
          "title": {
           "x": 0.05
          },
          "xaxis": {
           "automargin": true,
           "gridcolor": "white",
           "linecolor": "white",
           "ticks": "",
           "title": {
            "standoff": 15
           },
           "zerolinecolor": "white",
           "zerolinewidth": 2
          },
          "yaxis": {
           "automargin": true,
           "gridcolor": "white",
           "linecolor": "white",
           "ticks": "",
           "title": {
            "standoff": 15
           },
           "zerolinecolor": "white",
           "zerolinewidth": 2
          }
         }
        },
        "title": {
         "text": "K-Means Clustering of Journals"
        },
        "xaxis": {
         "anchor": "y",
         "domain": [
          0,
          1
         ],
         "title": {
          "text": "2020 - 2023"
         }
        },
        "yaxis": {
         "anchor": "x",
         "domain": [
          0,
          1
         ],
         "title": {
          "text": "Document"
         }
        }
       }
      }
     },
     "metadata": {},
     "output_type": "display_data"
    }
   ],
   "source": [
    "import pandas as pd\n",
    "import numpy as np\n",
    "import matplotlib.pyplot as plt\n",
    "from sklearn.cluster import KMeans\n",
    "from sklearn.preprocessing import StandardScaler\n",
    "import pandas as pd\n",
    "import numpy as np\n",
    "import plotly.express as px\n",
    "import plotly.graph_objects as go\n",
    "from sklearn.cluster import KMeans\n",
    "from sklearn.preprocessing import StandardScaler\n",
    "\n",
    "# Define the data\n",
    "\n",
    "# Create DataFrame\n",
    "df = pd.read_csv('modified_papers.csv')\n",
    "# df = pd.DataFrame(data)\n",
    "print(\"Original Data:\")\n",
    "print(df)\n",
    "\n",
    "# Features for clustering\n",
    "features = df[['2020 - 2023', 'document']]\n",
    "\n",
    "# Initialize the scaler\n",
    "scaler = StandardScaler()\n",
    "\n",
    "# Fit and transform the features\n",
    "scaled_features = scaler.fit_transform(features)\n",
    "\n",
    "# Convert back to DataFrame for easier handling\n",
    "scaled_df = pd.DataFrame(scaled_features, columns=['2020 - 2023 (scaled)', 'Document (scaled)'])\n",
    "print(\"\\nScaled Features:\")\n",
    "print(scaled_df)\n",
    "\n",
    "# Elbow Method to find the optimal number of clusters\n",
    "inertia = [] # store the inertia values เป็นค่าผลรวมของระยะห่างจากทุกจุดไปยังจุดศูนย์กลางนั้น ๆ\n",
    "k_range = range(1, 7) # test different klusters from 1 to 6\n",
    "for k in k_range:\n",
    "    kmeans = KMeans(n_clusters=k, random_state=42)\n",
    "    kmeans.fit(scaled_features) # fit the scaled data\n",
    "    inertia.append(kmeans.inertia_) # append the inertia value\n",
    "\n",
    "# Plot the Elbow Method results using Plotly\n",
    "fig_elbow = px.line(x=list(k_range), y=inertia, markers=True, # plot the line chart x = k_range, y = inertia\n",
    "                    title='Elbow Method for Determining Optimal k',\n",
    "                    labels={'x': 'Number of clusters (k)', 'y': 'Inertia'})\n",
    "fig_elbow.update_layout(xaxis=dict(tickmode='linear'))\n",
    "fig_elbow.show()\n",
    "\n",
    "# From the Elbow plot, choose k=2\n",
    "optimal_k = 3\n",
    "kmeans = KMeans(n_clusters=optimal_k, random_state=42) # set the number of clusters to 2\n",
    "kmeans.fit(scaled_features) # fit the scaled data\n",
    "df['Cluster'] = kmeans.labels_ \n",
    "\n",
    "print(\"\\nCluster Assignments:\")\n",
    "print(df[['title', 'Cluster']]) # print the title and cluster\n",
    "\n",
    "# Prepare data for plotting\n",
    "centroids = scaler.inverse_transform(kmeans.cluster_centers_)\n",
    "centroid_df = pd.DataFrame(centroids, columns=['2020 - 2023', 'document'])\n",
    "centroid_df['Cluster'] = range(optimal_k)\n",
    "\n",
    "# Create a color map for clusters\n",
    "color_map = {0: 'blue', 1: 'green'}\n",
    "\n",
    "# Plot the clusters using Plotly\n",
    "fig_clusters = px.scatter(\n",
    "    df, \n",
    "    x='2020 - 2023', \n",
    "    y='document',  # Fixed to match the actual column name\n",
    "    color='Cluster',\n",
    "    color_discrete_map=color_map,  # Use color_discrete_map instead of colors\n",
    "    hover_data=['title'],  # Fixed to match the column name\n",
    "    title='K-Means Clustering of Journals',\n",
    "    labels={'2020 - 2023': '2020 - 2023', 'document': 'Document'},\n",
    ")\n",
    "\n",
    "# Add centroids to the plot\n",
    "fig_clusters.add_trace(go.Scatter(\n",
    "    x=centroid_df['2020 - 2023'],\n",
    "    y=centroid_df['document'],\n",
    "    mode='markers',\n",
    "    marker=dict(color='red', size=15, symbol='x'),\n",
    "    name='Centroids'\n",
    "))\n",
    "\n",
    "# Optionally, add text labels for each point\n",
    "for idx, row in df.iterrows():\n",
    "    fig_clusters.add_annotation(\n",
    "        x=row['2020 - 2023'] + 10, \n",
    "        y=row['document'] + 10,\n",
    "        text=row['title'],  # Fixed to match the column name\n",
    "        showarrow=False,\n",
    "        font=dict(size=10)\n",
    "    )\n",
    "\n",
    "fig_clusters.update_layout(legend_title_text='Cluster')\n",
    "fig_clusters.show()"
   ]
  },
  {
   "cell_type": "markdown",
   "metadata": {},
   "source": []
  },
  {
   "cell_type": "code",
   "execution_count": null,
   "metadata": {},
   "outputs": [],
   "source": []
  }
 ],
 "metadata": {
  "kernelspec": {
   "display_name": "Python 3",
   "language": "python",
   "name": "python3"
  },
  "language_info": {
   "codemirror_mode": {
    "name": "ipython",
    "version": 3
   },
   "file_extension": ".py",
   "mimetype": "text/x-python",
   "name": "python",
   "nbconvert_exporter": "python",
   "pygments_lexer": "ipython3",
   "version": "3.12.4"
  }
 },
 "nbformat": 4,
 "nbformat_minor": 2
}
